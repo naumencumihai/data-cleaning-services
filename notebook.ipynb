{
 "cells": [
  {
   "cell_type": "markdown",
   "metadata": {},
   "source": [
    "### Python Script Description"
   ]
  },
  {
   "cell_type": "code",
   "execution_count": 18,
   "metadata": {},
   "outputs": [
    {
     "ename": "KeyError",
     "evalue": "'trip_distance'",
     "output_type": "error",
     "traceback": [
      "\u001b[1;31m---------------------------------------------------------------------------\u001b[0m",
      "\u001b[1;31mKeyError\u001b[0m                                  Traceback (most recent call last)",
      "File \u001b[1;32m~\\AppData\\Local\\Packages\\PythonSoftwareFoundation.Python.3.10_qbz5n2kfra8p0\\LocalCache\\local-packages\\Python310\\site-packages\\pandas\\core\\indexes\\base.py:3802\u001b[0m, in \u001b[0;36mIndex.get_loc\u001b[1;34m(self, key, method, tolerance)\u001b[0m\n\u001b[0;32m   3801\u001b[0m \u001b[38;5;28;01mtry\u001b[39;00m:\n\u001b[1;32m-> 3802\u001b[0m     \u001b[38;5;28;01mreturn\u001b[39;00m \u001b[38;5;28;43mself\u001b[39;49m\u001b[38;5;241;43m.\u001b[39;49m\u001b[43m_engine\u001b[49m\u001b[38;5;241;43m.\u001b[39;49m\u001b[43mget_loc\u001b[49m\u001b[43m(\u001b[49m\u001b[43mcasted_key\u001b[49m\u001b[43m)\u001b[49m\n\u001b[0;32m   3803\u001b[0m \u001b[38;5;28;01mexcept\u001b[39;00m \u001b[38;5;167;01mKeyError\u001b[39;00m \u001b[38;5;28;01mas\u001b[39;00m err:\n",
      "File \u001b[1;32m~\\AppData\\Local\\Packages\\PythonSoftwareFoundation.Python.3.10_qbz5n2kfra8p0\\LocalCache\\local-packages\\Python310\\site-packages\\pandas\\_libs\\index.pyx:138\u001b[0m, in \u001b[0;36mpandas._libs.index.IndexEngine.get_loc\u001b[1;34m()\u001b[0m\n",
      "File \u001b[1;32m~\\AppData\\Local\\Packages\\PythonSoftwareFoundation.Python.3.10_qbz5n2kfra8p0\\LocalCache\\local-packages\\Python310\\site-packages\\pandas\\_libs\\index.pyx:165\u001b[0m, in \u001b[0;36mpandas._libs.index.IndexEngine.get_loc\u001b[1;34m()\u001b[0m\n",
      "File \u001b[1;32mpandas\\_libs\\hashtable_class_helper.pxi:5745\u001b[0m, in \u001b[0;36mpandas._libs.hashtable.PyObjectHashTable.get_item\u001b[1;34m()\u001b[0m\n",
      "File \u001b[1;32mpandas\\_libs\\hashtable_class_helper.pxi:5753\u001b[0m, in \u001b[0;36mpandas._libs.hashtable.PyObjectHashTable.get_item\u001b[1;34m()\u001b[0m\n",
      "\u001b[1;31mKeyError\u001b[0m: 'trip_distance'",
      "\nThe above exception was the direct cause of the following exception:\n",
      "\u001b[1;31mKeyError\u001b[0m                                  Traceback (most recent call last)",
      "Cell \u001b[1;32mIn[18], line 18\u001b[0m\n\u001b[0;32m     16\u001b[0m df\u001b[38;5;241m.\u001b[39mto_csv(no_header_input_path, index\u001b[38;5;241m=\u001b[39m\u001b[38;5;28;01mTrue\u001b[39;00m, header\u001b[38;5;241m=\u001b[39m\u001b[38;5;28;01mFalse\u001b[39;00m)\n\u001b[0;32m     17\u001b[0m df \u001b[38;5;241m=\u001b[39m pd\u001b[38;5;241m.\u001b[39mread_csv(no_header_input_path, low_memory\u001b[38;5;241m=\u001b[39m\u001b[38;5;28;01mFalse\u001b[39;00m)\n\u001b[1;32m---> 18\u001b[0m x_column \u001b[38;5;241m=\u001b[39m \u001b[43mdf\u001b[49m\u001b[38;5;241;43m.\u001b[39;49m\u001b[43mcolumns\u001b[49m\u001b[38;5;241;43m.\u001b[39;49m\u001b[43mget_loc\u001b[49m\u001b[43m(\u001b[49m\u001b[38;5;124;43m\"\u001b[39;49m\u001b[38;5;124;43mtrip_distance\u001b[39;49m\u001b[38;5;124;43m\"\u001b[39;49m\u001b[43m)\u001b[49m\n\u001b[0;32m     19\u001b[0m y_column \u001b[38;5;241m=\u001b[39m df\u001b[38;5;241m.\u001b[39mcolumns\u001b[38;5;241m.\u001b[39mget_loc(\u001b[38;5;124m\"\u001b[39m\u001b[38;5;124mtotal_amount\u001b[39m\u001b[38;5;124m\"\u001b[39m)\n\u001b[0;32m     21\u001b[0m \u001b[38;5;66;03m# trip_distance = 'trip_distance'\u001b[39;00m\n\u001b[0;32m     22\u001b[0m \n\u001b[0;32m     23\u001b[0m \u001b[38;5;66;03m# print(f\"The field number for the column is: {df.columns.get_loc(trip_distance)}\")\u001b[39;00m\n",
      "File \u001b[1;32m~\\AppData\\Local\\Packages\\PythonSoftwareFoundation.Python.3.10_qbz5n2kfra8p0\\LocalCache\\local-packages\\Python310\\site-packages\\pandas\\core\\indexes\\base.py:3804\u001b[0m, in \u001b[0;36mIndex.get_loc\u001b[1;34m(self, key, method, tolerance)\u001b[0m\n\u001b[0;32m   3802\u001b[0m     \u001b[38;5;28;01mreturn\u001b[39;00m \u001b[38;5;28mself\u001b[39m\u001b[38;5;241m.\u001b[39m_engine\u001b[38;5;241m.\u001b[39mget_loc(casted_key)\n\u001b[0;32m   3803\u001b[0m \u001b[38;5;28;01mexcept\u001b[39;00m \u001b[38;5;167;01mKeyError\u001b[39;00m \u001b[38;5;28;01mas\u001b[39;00m err:\n\u001b[1;32m-> 3804\u001b[0m     \u001b[38;5;28;01mraise\u001b[39;00m \u001b[38;5;167;01mKeyError\u001b[39;00m(key) \u001b[38;5;28;01mfrom\u001b[39;00m \u001b[38;5;21;01merr\u001b[39;00m\n\u001b[0;32m   3805\u001b[0m \u001b[38;5;28;01mexcept\u001b[39;00m \u001b[38;5;167;01mTypeError\u001b[39;00m:\n\u001b[0;32m   3806\u001b[0m     \u001b[38;5;66;03m# If we have a listlike key, _check_indexing_error will raise\u001b[39;00m\n\u001b[0;32m   3807\u001b[0m     \u001b[38;5;66;03m#  InvalidIndexError. Otherwise we fall through and re-raise\u001b[39;00m\n\u001b[0;32m   3808\u001b[0m     \u001b[38;5;66;03m#  the TypeError.\u001b[39;00m\n\u001b[0;32m   3809\u001b[0m     \u001b[38;5;28mself\u001b[39m\u001b[38;5;241m.\u001b[39m_check_indexing_error(key)\n",
      "\u001b[1;31mKeyError\u001b[0m: 'trip_distance'"
     ]
    }
   ],
   "source": [
    "import os\n",
    "import sys\n",
    "import subprocess\n",
    "import re\n",
    "import pandas as pd\n",
    "\n",
    "input_path = './datasets/csv_datasets/test001/part-00000-3e9d02f3-2f5d-49cb-bd84-2103a4259e9d-c000.csv'\n",
    "\n",
    "df = pd.read_csv(input_path, low_memory=False)\n",
    "\n",
    "directory_path = os.path.dirname(input_path)\n",
    "file_name = os.path.basename(input_path)\n",
    "\n",
    "no_header_input_path = f'{directory_path}/NOHEADER_{file_name}'\n",
    "\n",
    "x_column = df.columns.get_loc(\"trip_distance\")\n",
    "y_column = df.columns.get_loc(\"total_amount\")\n",
    "\n",
    "print(x_column) \n",
    "print(y_column)\n",
    "\n",
    "df.to_csv(no_header_input_path, index=True, header=False)\n",
    "df = pd.read_csv(no_header_input_path, low_memory=False)\n",
    "\n",
    "# trip_distance = 'trip_distance'\n",
    "\n",
    "# print(f\"The field number for the column is: {df.columns.get_loc(trip_distance)}\")\n"
   ]
  },
  {
   "cell_type": "code",
   "execution_count": 1,
   "metadata": {},
   "outputs": [
    {
     "name": "stdout",
     "output_type": "stream",
     "text": [
      "root\n",
      " |-- trip_distance: double (nullable = true)\n",
      " |-- total_amount: double (nullable = true)\n",
      "\n",
      "Total number of records: 3307234\n"
     ]
    }
   ],
   "source": [
    "from pyspark.sql import SparkSession\n",
    "import matplotlib.pyplot as plt\n",
    "from IPython.display import display\n",
    "\n",
    "# Initialize a Spark session\n",
    "# local[*] = run local with as many threads as cores available\n",
    "spark = SparkSession.builder \\\n",
    "    .config(\"spark.driver.host\", \"localhost\") \\\n",
    "    .appName(\"Read Parquet File\") \\\n",
    "    .master(\"local[*]\") \\\n",
    "    .config(\"spark.executor.extraJavaOptions\", \"-XX:+UseG1GC -XX:InitiatingHeapOccupancyPercent=35\") \\\n",
    "    .config(\"spark.driver.memory\", \"16g\") \\\n",
    "    .config(\"spark.executor.memory\", \"8g\") \\\n",
    "    .config(\"spark.driver.maxResultSize\", \"4g\") \\\n",
    "    .config(\"spark.network.timeout\", \"1200s\") \\\n",
    "    .config(\"spark.sql.shuffle.partitions\", \"200\") \\\n",
    "    .getOrCreate()\n",
    "\n",
    "# Read the Parquet file\n",
    "# parquet_file = \"./datasets/combined_datasets/yellow_tripdata_2023.parquet\" # too large apparently\n",
    "parquet_file = \"./datasets/filtered_fields_datasets/yellow_tripdata_2023_06_distance_amount.parquet\"\n",
    "df = spark.read.parquet(parquet_file).repartition(10).persist()\n",
    "\n",
    "# Show the schema of the DataFrame\n",
    "df.printSchema()\n",
    "\n",
    "# Get the total number of records\n",
    "total_records = df.count()\n",
    "\n",
    "print(f\"Total number of records: {total_records}\")\n",
    "\n",
    "# Convert to Pandas DataFrame for plotting\n",
    "pdf = df.toPandas()\n",
    "\n",
    "# Plot 1: All data\n",
    "plt.figure(figsize=(10, 6))\n",
    "plt.scatter(pdf['trip_distance'], pdf['total_amount'], alpha=0.5, color='blue')\n",
    "plt.title('Trip Distance vs Total Amount (All Data)')\n",
    "plt.xlabel('Trip Distance (miles)')\n",
    "plt.ylabel('Total Amount ($)')\n",
    "plt.grid(True)\n",
    "plt.savefig('trip_distance_vs_total_amount_all_data.png')  # Save the plot as a PNG file\n",
    "plt.close()  # Close the plot to free memory\n",
    "\n",
    "# Calculate mean and standard deviation\n",
    "mean_trip_distance = pdf['trip_distance'].mean()\n",
    "std_trip_distance = pdf['trip_distance'].std()\n",
    "\n",
    "mean_total_amount = pdf['total_amount'].mean()\n",
    "std_total_amount = pdf['total_amount'].std()\n",
    "\n",
    "# Filter data to include only values within 2 standard deviations from the mean\n",
    "normalized_pdf = pdf[\n",
    "    (pdf['trip_distance'] > mean_trip_distance - 2 * std_trip_distance) & \n",
    "    (pdf['trip_distance'] < mean_trip_distance + 2 * std_trip_distance) &\n",
    "    (pdf['total_amount'] > mean_total_amount - 2 * std_total_amount) &\n",
    "    (pdf['total_amount'] < mean_total_amount + 2 * std_total_amount)\n",
    "]\n",
    "\n",
    "# Plot 2: Normalized data\n",
    "plt.figure(figsize=(10, 6))\n",
    "plt.scatter(normalized_pdf['trip_distance'], normalized_pdf['total_amount'], alpha=0.5, color='green')\n",
    "plt.title('Trip Distance vs Total Amount (Normalized Data)')\n",
    "plt.xlabel('Trip Distance (miles)')\n",
    "plt.ylabel('Total Amount ($)')\n",
    "plt.grid(True)\n",
    "plt.savefig('trip_distance_vs_total_amount_normalized_data.png')  # Save the plot as a PNG file\n",
    "plt.close()  # Close the plot to free memory\n",
    "\n",
    "spark.stop()"
   ]
  }
 ],
 "metadata": {
  "kernelspec": {
   "display_name": "Python 3",
   "language": "python",
   "name": "python3"
  },
  "language_info": {
   "codemirror_mode": {
    "name": "ipython",
    "version": 3
   },
   "file_extension": ".py",
   "mimetype": "text/x-python",
   "name": "python",
   "nbconvert_exporter": "python",
   "pygments_lexer": "ipython3",
   "version": "3.10.11"
  }
 },
 "nbformat": 4,
 "nbformat_minor": 2
}
